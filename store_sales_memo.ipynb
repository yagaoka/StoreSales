{
 "cells": [
  {
   "cell_type": "markdown",
   "id": "30b8338c",
   "metadata": {},
   "source": [
    "10/25 time-series-forcasting 時系列分析\n",
    "最も一般的な現実世界の分析\n",
    "例：小売店の商品ごとの売上\n",
    "感想にはなるが、何がなんだか分からない。\n",
    "理由：英語が分からない、回帰なのか分類なのかも分からない\n",
    "対策：日本語文献に触れる、とりあえず後回し？\n",
    "\n",
    "time-series feature 時間特徴量\n",
    "Lag feature ラグ特徴量"
   ]
  },
  {
   "cell_type": "code",
   "execution_count": null,
   "id": "9384d9aa",
   "metadata": {},
   "outputs": [],
   "source": []
  }
 ],
 "metadata": {
  "kernelspec": {
   "display_name": "Python 3 (ipykernel)",
   "language": "python",
   "name": "python3"
  },
  "language_info": {
   "codemirror_mode": {
    "name": "ipython",
    "version": 3
   },
   "file_extension": ".py",
   "mimetype": "text/x-python",
   "name": "python",
   "nbconvert_exporter": "python",
   "pygments_lexer": "ipython3",
   "version": "3.9.7"
  }
 },
 "nbformat": 4,
 "nbformat_minor": 5
}
